{
 "cells": [
  {
   "cell_type": "code",
   "execution_count": null,
   "id": "ba28f596",
   "metadata": {},
   "outputs": [],
   "source": [
    "import numpy as np \n",
    "import pandas as pd \n",
    "import matplotlib.pyplot as plt\n",
    "import seaborn as sns\n",
    "import warnings\n",
    "warnings.filterwarnings(\"ignore\")"
   ]
  },
  {
   "cell_type": "code",
   "execution_count": 2,
   "id": "67bb53e7",
   "metadata": {},
   "outputs": [],
   "source": [
    "from sklearn.preprocessing import LabelEncoder\n",
    "from sklearn.model_selection import train_test_split\n",
    "from sklearn.neighbors import KNeighborsClassifier\n",
    "from sklearn.ensemble import RandomForestClassifier\n",
    "from sklearn.linear_model import LogisticRegression\n",
    "from sklearn.metrics import accuracy_score, confusion_matrix\n",
    "from sklearn.metrics import classification_report"
   ]
  },
  {
   "cell_type": "code",
   "execution_count": 3,
   "id": "7cdf935f",
   "metadata": {},
   "outputs": [],
   "source": [
    "# Load the dataset\n",
    "dress = pd.read_excel('Attribute DataSet.xlsx')"
   ]
  },
  {
   "cell_type": "code",
   "execution_count": 4,
   "id": "917675bf",
   "metadata": {},
   "outputs": [
    {
     "data": {
      "text/html": [
       "<div>\n",
       "<style scoped>\n",
       "    .dataframe tbody tr th:only-of-type {\n",
       "        vertical-align: middle;\n",
       "    }\n",
       "\n",
       "    .dataframe tbody tr th {\n",
       "        vertical-align: top;\n",
       "    }\n",
       "\n",
       "    .dataframe thead th {\n",
       "        text-align: right;\n",
       "    }\n",
       "</style>\n",
       "<table border=\"1\" class=\"dataframe\">\n",
       "  <thead>\n",
       "    <tr style=\"text-align: right;\">\n",
       "      <th></th>\n",
       "      <th>Dress_ID</th>\n",
       "      <th>Style</th>\n",
       "      <th>Price</th>\n",
       "      <th>Rating</th>\n",
       "      <th>Size</th>\n",
       "      <th>Season</th>\n",
       "      <th>NeckLine</th>\n",
       "      <th>SleeveLength</th>\n",
       "      <th>waiseline</th>\n",
       "      <th>Material</th>\n",
       "      <th>FabricType</th>\n",
       "      <th>Decoration</th>\n",
       "      <th>Pattern Type</th>\n",
       "      <th>Recommendation</th>\n",
       "    </tr>\n",
       "  </thead>\n",
       "  <tbody>\n",
       "    <tr>\n",
       "      <th>0</th>\n",
       "      <td>1006032852</td>\n",
       "      <td>Sexy</td>\n",
       "      <td>Low</td>\n",
       "      <td>4.6</td>\n",
       "      <td>M</td>\n",
       "      <td>Summer</td>\n",
       "      <td>o-neck</td>\n",
       "      <td>sleevless</td>\n",
       "      <td>empire</td>\n",
       "      <td>NaN</td>\n",
       "      <td>chiffon</td>\n",
       "      <td>ruffles</td>\n",
       "      <td>animal</td>\n",
       "      <td>1</td>\n",
       "    </tr>\n",
       "    <tr>\n",
       "      <th>1</th>\n",
       "      <td>1212192089</td>\n",
       "      <td>Casual</td>\n",
       "      <td>Low</td>\n",
       "      <td>0.0</td>\n",
       "      <td>L</td>\n",
       "      <td>Summer</td>\n",
       "      <td>o-neck</td>\n",
       "      <td>Petal</td>\n",
       "      <td>natural</td>\n",
       "      <td>microfiber</td>\n",
       "      <td>NaN</td>\n",
       "      <td>ruffles</td>\n",
       "      <td>animal</td>\n",
       "      <td>0</td>\n",
       "    </tr>\n",
       "    <tr>\n",
       "      <th>2</th>\n",
       "      <td>1190380701</td>\n",
       "      <td>vintage</td>\n",
       "      <td>High</td>\n",
       "      <td>0.0</td>\n",
       "      <td>L</td>\n",
       "      <td>Automn</td>\n",
       "      <td>o-neck</td>\n",
       "      <td>full</td>\n",
       "      <td>natural</td>\n",
       "      <td>polyster</td>\n",
       "      <td>NaN</td>\n",
       "      <td>NaN</td>\n",
       "      <td>print</td>\n",
       "      <td>0</td>\n",
       "    </tr>\n",
       "    <tr>\n",
       "      <th>3</th>\n",
       "      <td>966005983</td>\n",
       "      <td>Brief</td>\n",
       "      <td>Average</td>\n",
       "      <td>4.6</td>\n",
       "      <td>L</td>\n",
       "      <td>Spring</td>\n",
       "      <td>o-neck</td>\n",
       "      <td>full</td>\n",
       "      <td>natural</td>\n",
       "      <td>silk</td>\n",
       "      <td>chiffon</td>\n",
       "      <td>embroidary</td>\n",
       "      <td>print</td>\n",
       "      <td>1</td>\n",
       "    </tr>\n",
       "    <tr>\n",
       "      <th>4</th>\n",
       "      <td>876339541</td>\n",
       "      <td>cute</td>\n",
       "      <td>Low</td>\n",
       "      <td>4.5</td>\n",
       "      <td>M</td>\n",
       "      <td>Summer</td>\n",
       "      <td>o-neck</td>\n",
       "      <td>butterfly</td>\n",
       "      <td>natural</td>\n",
       "      <td>chiffonfabric</td>\n",
       "      <td>chiffon</td>\n",
       "      <td>bow</td>\n",
       "      <td>dot</td>\n",
       "      <td>0</td>\n",
       "    </tr>\n",
       "  </tbody>\n",
       "</table>\n",
       "</div>"
      ],
      "text/plain": [
       "     Dress_ID    Style    Price  Rating Size  Season NeckLine SleeveLength  \\\n",
       "0  1006032852     Sexy      Low     4.6    M  Summer   o-neck    sleevless   \n",
       "1  1212192089   Casual      Low     0.0    L  Summer   o-neck        Petal   \n",
       "2  1190380701  vintage     High     0.0    L  Automn   o-neck         full   \n",
       "3   966005983    Brief  Average     4.6    L  Spring   o-neck         full   \n",
       "4   876339541     cute      Low     4.5    M  Summer   o-neck    butterfly   \n",
       "\n",
       "  waiseline       Material FabricType  Decoration Pattern Type  Recommendation  \n",
       "0    empire            NaN    chiffon     ruffles       animal               1  \n",
       "1   natural     microfiber        NaN     ruffles       animal               0  \n",
       "2   natural       polyster        NaN         NaN        print               0  \n",
       "3   natural           silk    chiffon  embroidary        print               1  \n",
       "4   natural  chiffonfabric    chiffon         bow          dot               0  "
      ]
     },
     "execution_count": 4,
     "metadata": {},
     "output_type": "execute_result"
    }
   ],
   "source": [
    "dress.head()"
   ]
  },
  {
   "cell_type": "code",
   "execution_count": 5,
   "id": "bffb41b7",
   "metadata": {
    "scrolled": true
   },
   "outputs": [
    {
     "data": {
      "text/plain": [
       "(500, 14)"
      ]
     },
     "execution_count": 5,
     "metadata": {},
     "output_type": "execute_result"
    }
   ],
   "source": [
    "dress.shape"
   ]
  },
  {
   "cell_type": "code",
   "execution_count": 6,
   "id": "51ef3258",
   "metadata": {},
   "outputs": [
    {
     "name": "stdout",
     "output_type": "stream",
     "text": [
      "<class 'pandas.core.frame.DataFrame'>\n",
      "RangeIndex: 500 entries, 0 to 499\n",
      "Data columns (total 14 columns):\n",
      " #   Column          Non-Null Count  Dtype  \n",
      "---  ------          --------------  -----  \n",
      " 0   Dress_ID        500 non-null    int64  \n",
      " 1   Style           500 non-null    object \n",
      " 2   Price           498 non-null    object \n",
      " 3   Rating          500 non-null    float64\n",
      " 4   Size            500 non-null    object \n",
      " 5   Season          498 non-null    object \n",
      " 6   NeckLine        497 non-null    object \n",
      " 7   SleeveLength    498 non-null    object \n",
      " 8   waiseline       413 non-null    object \n",
      " 9   Material        372 non-null    object \n",
      " 10  FabricType      234 non-null    object \n",
      " 11  Decoration      264 non-null    object \n",
      " 12  Pattern Type    391 non-null    object \n",
      " 13  Recommendation  500 non-null    int64  \n",
      "dtypes: float64(1), int64(2), object(11)\n",
      "memory usage: 54.8+ KB\n"
     ]
    }
   ],
   "source": [
    "dress.info()"
   ]
  },
  {
   "cell_type": "code",
   "execution_count": 7,
   "id": "08f2e722",
   "metadata": {},
   "outputs": [
    {
     "data": {
      "text/html": [
       "<div>\n",
       "<style scoped>\n",
       "    .dataframe tbody tr th:only-of-type {\n",
       "        vertical-align: middle;\n",
       "    }\n",
       "\n",
       "    .dataframe tbody tr th {\n",
       "        vertical-align: top;\n",
       "    }\n",
       "\n",
       "    .dataframe thead th {\n",
       "        text-align: right;\n",
       "    }\n",
       "</style>\n",
       "<table border=\"1\" class=\"dataframe\">\n",
       "  <thead>\n",
       "    <tr style=\"text-align: right;\">\n",
       "      <th></th>\n",
       "      <th>count</th>\n",
       "      <th>mean</th>\n",
       "      <th>std</th>\n",
       "      <th>min</th>\n",
       "      <th>25%</th>\n",
       "      <th>50%</th>\n",
       "      <th>75%</th>\n",
       "      <th>max</th>\n",
       "    </tr>\n",
       "  </thead>\n",
       "  <tbody>\n",
       "    <tr>\n",
       "      <th>Dress_ID</th>\n",
       "      <td>500.0</td>\n",
       "      <td>9.055417e+08</td>\n",
       "      <td>1.736190e+08</td>\n",
       "      <td>444282011.0</td>\n",
       "      <td>767316420.0</td>\n",
       "      <td>908329553.0</td>\n",
       "      <td>1.039534e+09</td>\n",
       "      <td>1.253973e+09</td>\n",
       "    </tr>\n",
       "    <tr>\n",
       "      <th>Rating</th>\n",
       "      <td>500.0</td>\n",
       "      <td>3.528600e+00</td>\n",
       "      <td>2.005364e+00</td>\n",
       "      <td>0.0</td>\n",
       "      <td>3.7</td>\n",
       "      <td>4.6</td>\n",
       "      <td>4.800000e+00</td>\n",
       "      <td>5.000000e+00</td>\n",
       "    </tr>\n",
       "    <tr>\n",
       "      <th>Recommendation</th>\n",
       "      <td>500.0</td>\n",
       "      <td>4.200000e-01</td>\n",
       "      <td>4.940528e-01</td>\n",
       "      <td>0.0</td>\n",
       "      <td>0.0</td>\n",
       "      <td>0.0</td>\n",
       "      <td>1.000000e+00</td>\n",
       "      <td>1.000000e+00</td>\n",
       "    </tr>\n",
       "  </tbody>\n",
       "</table>\n",
       "</div>"
      ],
      "text/plain": [
       "                count          mean           std          min          25%  \\\n",
       "Dress_ID        500.0  9.055417e+08  1.736190e+08  444282011.0  767316420.0   \n",
       "Rating          500.0  3.528600e+00  2.005364e+00          0.0          3.7   \n",
       "Recommendation  500.0  4.200000e-01  4.940528e-01          0.0          0.0   \n",
       "\n",
       "                        50%           75%           max  \n",
       "Dress_ID        908329553.0  1.039534e+09  1.253973e+09  \n",
       "Rating                  4.6  4.800000e+00  5.000000e+00  \n",
       "Recommendation          0.0  1.000000e+00  1.000000e+00  "
      ]
     },
     "execution_count": 7,
     "metadata": {},
     "output_type": "execute_result"
    }
   ],
   "source": [
    "dress.describe().T"
   ]
  },
  {
   "cell_type": "markdown",
   "id": "4d23706a",
   "metadata": {},
   "source": [
    "# Data cleaning"
   ]
  },
  {
   "cell_type": "markdown",
   "id": "127887d2",
   "metadata": {},
   "source": [
    "## Dealing with Null values "
   ]
  },
  {
   "cell_type": "code",
   "execution_count": 8,
   "id": "fc996df8",
   "metadata": {
    "scrolled": true
   },
   "outputs": [
    {
     "data": {
      "text/plain": [
       "Dress_ID            0\n",
       "Style               0\n",
       "Price               2\n",
       "Rating              0\n",
       "Size                0\n",
       "Season              2\n",
       "NeckLine            3\n",
       "SleeveLength        2\n",
       "waiseline          87\n",
       "Material          128\n",
       "FabricType        266\n",
       "Decoration        236\n",
       "Pattern Type      109\n",
       "Recommendation      0\n",
       "dtype: int64"
      ]
     },
     "execution_count": 8,
     "metadata": {},
     "output_type": "execute_result"
    }
   ],
   "source": [
    "dress.isnull().sum()"
   ]
  },
  {
   "cell_type": "code",
   "execution_count": 9,
   "id": "c4b488af",
   "metadata": {},
   "outputs": [],
   "source": [
    "dress['Price'].ffill(inplace=True)"
   ]
  },
  {
   "cell_type": "code",
   "execution_count": 10,
   "id": "9418a66d",
   "metadata": {},
   "outputs": [],
   "source": [
    "dress['Season'].ffill(inplace=True)"
   ]
  },
  {
   "cell_type": "code",
   "execution_count": 11,
   "id": "ef4814e0",
   "metadata": {},
   "outputs": [],
   "source": [
    "dress['waiseline'].ffill(inplace=True)"
   ]
  },
  {
   "cell_type": "code",
   "execution_count": 12,
   "id": "665154c4",
   "metadata": {},
   "outputs": [],
   "source": [
    "dress['Style'] = dress['Style'].replace({'sexy': 'Sexy'})"
   ]
  },
  {
   "cell_type": "code",
   "execution_count": 13,
   "id": "14fd1e90",
   "metadata": {},
   "outputs": [],
   "source": [
    "dress['Price'] = dress['Price'].replace({'high': 'High', 'Average': 'Medium', 'low': 'Low'})"
   ]
  },
  {
   "cell_type": "code",
   "execution_count": 14,
   "id": "a750668d",
   "metadata": {},
   "outputs": [],
   "source": [
    "dress['Size'] = dress['Size'].replace({'s': 'S', 'small': 'S'})"
   ]
  },
  {
   "cell_type": "code",
   "execution_count": 15,
   "id": "66c08c79",
   "metadata": {},
   "outputs": [],
   "source": [
    "dress['Season'] = dress['Season'].replace({'summer': 'Summer', 'Automn': 'Autumn', 'spring': 'Spring', 'winter': 'Winter'})"
   ]
  },
  {
   "cell_type": "markdown",
   "id": "b72230a4",
   "metadata": {},
   "source": [
    "Only those data which are required will be taken for the research"
   ]
  },
  {
   "cell_type": "markdown",
   "id": "8b01acee",
   "metadata": {},
   "source": [
    "# EDA"
   ]
  },
  {
   "cell_type": "code",
   "execution_count": 16,
   "id": "4c470193",
   "metadata": {},
   "outputs": [
    {
     "data": {
      "image/png": "[encoded data removed]",
      "text/plain": [
       "<Figure size 640x480 with 1 Axes>"
      ]
     },
     "metadata": {},
     "output_type": "display_data"
    }
   ],
   "source": [
    "plt.pie(dress['Price'].value_counts(), labels=dress['Price'].value_counts().index, autopct='%1.2f%%')\n",
    "plt.title(\"Proportion of Price distribution for dress data\")\n",
    "plt.show()"
   ]
  },
  {
   "cell_type": "code",
   "execution_count": 17,
   "id": "5e4ac330",
   "metadata": {},
   "outputs": [
    {
     "data": {
      "text/plain": [
       "<Axes: xlabel='Rating', ylabel='Count'>"
      ]
     },
     "execution_count": 17,
     "metadata": {},
     "output_type": "execute_result"
    },
    {
     "data": {
      "image/png": "[encoded data removed]",
      "text/plain": [
       "<Figure size 640x480 with 1 Axes>"
      ]
     },
     "metadata": {},
     "output_type": "display_data"
    }
   ],
   "source": [
    "sns.histplot(dress['Rating'], color='purple',bins=5)"
   ]
  },
  {
   "cell_type": "code",
   "execution_count": 18,
   "id": "727f6ce6",
   "metadata": {},
   "outputs": [
    {
     "data": {
      "image/png": "[encoded data removed]",
      "text/plain": [
       "<Figure size 640x480 with 1 Axes>"
      ]
     },
     "metadata": {},
     "output_type": "display_data"
    }
   ],
   "source": [
    "sns.countplot(x='Recommendation', data=dress)\n",
    "plt.title(\"Distribution of the dress Recommendation\")\n",
    "plt.xlabel(\"Recommendation Type\")\n",
    "plt.ylabel(\"Count\")\n",
    "plt.show()"
   ]
  },
  {
   "cell_type": "code",
   "execution_count": null,
   "id": "e8ba5721",
   "metadata": {},
   "outputs": [],
   "source": [
    "# Univariate Analysis\n",
    "plt.figure(figsize=(15, 10))\n",
    "\n",
    "plt.subplot(2, 3, 1)\n",
    "sns.countplot(x='Style', data=dress)\n",
    "plt.title('Style Distribution')\n",
    "\n",
    "plt.subplot(2, 3, 2)\n",
    "sns.countplot(x='Price', data=dress)\n",
    "plt.title('Price Distribution')\n",
    "\n",
    "plt.subplot(2, 3, 3)\n",
    "sns.countplot(x='Size', data=dress)\n",
    "plt.title('Size Distribution')\n",
    "\n",
    "plt.subplot(2, 3, 4)\n",
    "sns.countplot(x='Season', data=dress)\n",
    "plt.title('Season Distribution')\n",
    "\n",
    "plt.subplot(2, 3, 5)\n",
    "sns.countplot(x='waiseline', data=dress)\n",
    "plt.title('Waiseline Distribution')\n",
    "\n",
    "plt.tight_layout()\n",
    "plt.show()\n"
   ]
  },
  {
   "cell_type": "code",
   "execution_count": null,
   "id": "f2abe19f",
   "metadata": {},
   "outputs": [],
   "source": [
    "# Bivariate Analysis\n",
    "plt.figure(figsize=(15, 10))\n",
    "\n",
    "plt.subplot(2, 3, 1)\n",
    "sns.countplot(x='Style', hue='Recommendation', data=dress)\n",
    "plt.title('Style vs. Recommendation')\n",
    "\n",
    "plt.subplot(2, 3, 2)\n",
    "sns.countplot(x='Price', hue='Recommendation', data=dress)\n",
    "plt.title('Price vs. Recommendation')\n",
    "\n",
    "plt.subplot(2, 3, 3)\n",
    "sns.countplot(x='Size', hue='Recommendation', data=dress)\n",
    "plt.title('Size vs. Recommendation')\n",
    "\n",
    "plt.subplot(2, 3, 4)\n",
    "sns.countplot(x='Season', hue='Recommendation', data=dress)\n",
    "plt.title('Season vs. Recommendation')\n",
    "\n",
    "plt.subplot(2, 3, 5)\n",
    "sns.countplot(x='waiseline', hue='Recommendation', data=dress)\n",
    "plt.title('Waiseline vs. Recommendation')\n",
    "\n",
    "plt.tight_layout()\n",
    "plt.show()\n"
   ]
  },
  {
   "cell_type": "markdown",
   "id": "5451b1a8",
   "metadata": {},
   "source": [
    "# Feature engineering"
   ]
  },
  {
   "cell_type": "code",
   "execution_count": 19,
   "id": "293b4966",
   "metadata": {},
   "outputs": [],
   "source": [
    "label_encoder = LabelEncoder()"
   ]
  },
  {
   "cell_type": "code",
   "execution_count": 20,
   "id": "e41c65a6",
   "metadata": {},
   "outputs": [],
   "source": [
    "dress['Price']= label_encoder.fit_transform(dress['Price'])"
   ]
  },
  {
   "cell_type": "code",
   "execution_count": 21,
   "id": "fa8f43bd",
   "metadata": {},
   "outputs": [],
   "source": [
    "dress['Size']= label_encoder.fit_transform(dress['Size'])"
   ]
  },
  {
   "cell_type": "code",
   "execution_count": 22,
   "id": "21153fde",
   "metadata": {},
   "outputs": [],
   "source": [
    "dress['Season']= label_encoder.fit_transform(dress['Season'])"
   ]
  },
  {
   "cell_type": "code",
   "execution_count": 23,
   "id": "d9a1cd74",
   "metadata": {},
   "outputs": [],
   "source": [
    "dress['waiseline']= label_encoder.fit_transform(dress['waiseline'])"
   ]
  },
  {
   "cell_type": "code",
   "execution_count": 24,
   "id": "160fc86d",
   "metadata": {},
   "outputs": [],
   "source": [
    "dress['Style']= label_encoder.fit_transform(dress['Style'])"
   ]
  },
  {
   "cell_type": "code",
   "execution_count": 25,
   "id": "82d8480a",
   "metadata": {},
   "outputs": [],
   "source": [
    "X=dress[['Style', 'Price', 'Rating', 'Size', 'Season','waiseline']]"
   ]
  },
  {
   "cell_type": "code",
   "execution_count": 26,
   "id": "9d3304c4",
   "metadata": {},
   "outputs": [],
   "source": [
    "y=dress['Recommendation']"
   ]
  },
  {
   "cell_type": "code",
   "execution_count": 27,
   "id": "af59e47f",
   "metadata": {},
   "outputs": [],
   "source": [
    "from sklearn.model_selection import train_test_split"
   ]
  },
  {
   "cell_type": "code",
   "execution_count": 28,
   "id": "cb580535",
   "metadata": {},
   "outputs": [],
   "source": [
    "X_train, X_test, y_train, y_test = train_test_split(X, y, test_size= 0.20, random_state = 154)"
   ]
  },
  {
   "cell_type": "markdown",
   "id": "371f9ae7",
   "metadata": {},
   "source": [
    "# Machine learning Algorithms"
   ]
  },
  {
   "cell_type": "code",
   "execution_count": 29,
   "id": "1eea32f0",
   "metadata": {},
   "outputs": [],
   "source": [
    "rfc = RandomForestClassifier()\n",
    "rfc=rfc.fit(X_train, y_train)"
   ]
  },
  {
   "cell_type": "code",
   "execution_count": 30,
   "id": "2f197660",
   "metadata": {},
   "outputs": [],
   "source": [
    "rfc_pred = rfc.predict(X_test)"
   ]
  },
  {
   "cell_type": "code",
   "execution_count": 31,
   "id": "41fa7c42",
   "metadata": {},
   "outputs": [],
   "source": [
    "rfc_acc=round(accuracy_score(y_test, rfc_pred)*100,2)"
   ]
  },
  {
   "cell_type": "code",
   "execution_count": 32,
   "id": "8b68b9ad",
   "metadata": {},
   "outputs": [
    {
     "data": {
      "text/plain": [
       "54.0"
      ]
     },
     "execution_count": 32,
     "metadata": {},
     "output_type": "execute_result"
    }
   ],
   "source": [
    "rfc_acc"
   ]
  },
  {
   "cell_type": "code",
   "execution_count": 33,
   "id": "9d23c039",
   "metadata": {},
   "outputs": [
    {
     "data": {
      "text/plain": [
       "array([[35, 22],\n",
       "       [24, 19]], dtype=int64)"
      ]
     },
     "execution_count": 33,
     "metadata": {},
     "output_type": "execute_result"
    }
   ],
   "source": [
    "confusion_matrix(y_test, rfc_pred)"
   ]
  },
  {
   "cell_type": "code",
   "execution_count": 34,
   "id": "cd7dd1de",
   "metadata": {},
   "outputs": [
    {
     "name": "stdout",
     "output_type": "stream",
     "text": [
      "              precision    recall  f1-score   support\n",
      "\n",
      "           0       0.59      0.61      0.60        57\n",
      "           1       0.46      0.44      0.45        43\n",
      "\n",
      "    accuracy                           0.54       100\n",
      "   macro avg       0.53      0.53      0.53       100\n",
      "weighted avg       0.54      0.54      0.54       100\n",
      "\n"
     ]
    }
   ],
   "source": [
    "print(classification_report(y_test, rfc_pred))"
   ]
  },
  {
   "cell_type": "code",
   "execution_count": 35,
   "id": "6506b7b5",
   "metadata": {},
   "outputs": [],
   "source": [
    "Log_reg = LogisticRegression()"
   ]
  },
  {
   "cell_type": "code",
   "execution_count": 36,
   "id": "83581792",
   "metadata": {},
   "outputs": [],
   "source": [
    "Log_reg=Log_reg.fit(X_train, y_train)\n",
    "Log_reg_pred = Log_reg.predict(X_test)"
   ]
  },
  {
   "cell_type": "code",
   "execution_count": 37,
   "id": "aa60cd8b",
   "metadata": {},
   "outputs": [],
   "source": [
    "Log_reg_acc=round(accuracy_score(y_test, Log_reg_pred)*100,2)"
   ]
  },
  {
   "cell_type": "code",
   "execution_count": 38,
   "id": "9d0d82f0",
   "metadata": {},
   "outputs": [
    {
     "data": {
      "text/plain": [
       "61.0"
      ]
     },
     "execution_count": 38,
     "metadata": {},
     "output_type": "execute_result"
    }
   ],
   "source": [
    "Log_reg_acc"
   ]
  },
  {
   "cell_type": "code",
   "execution_count": 39,
   "id": "b43ffc63",
   "metadata": {},
   "outputs": [
    {
     "data": {
      "text/plain": [
       "array([[55,  2],\n",
       "       [37,  6]], dtype=int64)"
      ]
     },
     "execution_count": 39,
     "metadata": {},
     "output_type": "execute_result"
    }
   ],
   "source": [
    "confusion_matrix(y_test, Log_reg_pred)"
   ]
  },
  {
   "cell_type": "code",
   "execution_count": 40,
   "id": "1c029b0c",
   "metadata": {},
   "outputs": [
    {
     "name": "stdout",
     "output_type": "stream",
     "text": [
      "              precision    recall  f1-score   support\n",
      "\n",
      "           0       0.60      0.96      0.74        57\n",
      "           1       0.75      0.14      0.24        43\n",
      "\n",
      "    accuracy                           0.61       100\n",
      "   macro avg       0.67      0.55      0.49       100\n",
      "weighted avg       0.66      0.61      0.52       100\n",
      "\n"
     ]
    }
   ],
   "source": [
    "print(classification_report(y_test, Log_reg_pred))"
   ]
  },
  {
   "cell_type": "code",
   "execution_count": 41,
   "id": "2eb98766",
   "metadata": {},
   "outputs": [],
   "source": [
    "knn = KNeighborsClassifier()"
   ]
  },
  {
   "cell_type": "code",
   "execution_count": 42,
   "id": "3fb046d7",
   "metadata": {},
   "outputs": [],
   "source": [
    "knn=knn.fit(X_train, y_train)\n",
    "knn_pred = knn.predict(X_test)"
   ]
  },
  {
   "cell_type": "code",
   "execution_count": 43,
   "id": "9aba5876",
   "metadata": {},
   "outputs": [],
   "source": [
    "knn_acc=round(accuracy_score(y_test, knn_pred)*100,2)"
   ]
  },
  {
   "cell_type": "code",
   "execution_count": 44,
   "id": "d673d3ac",
   "metadata": {},
   "outputs": [
    {
     "data": {
      "text/plain": [
       "51.0"
      ]
     },
     "execution_count": 44,
     "metadata": {},
     "output_type": "execute_result"
    }
   ],
   "source": [
    "knn_acc"
   ]
  },
  {
   "cell_type": "code",
   "execution_count": 45,
   "id": "3ac3f14f",
   "metadata": {},
   "outputs": [
    {
     "data": {
      "text/plain": [
       "array([[34, 23],\n",
       "       [26, 17]], dtype=int64)"
      ]
     },
     "execution_count": 45,
     "metadata": {},
     "output_type": "execute_result"
    }
   ],
   "source": [
    "confusion_matrix(y_test,knn_pred)"
   ]
  },
  {
   "cell_type": "code",
   "execution_count": 46,
   "id": "a8d36286",
   "metadata": {},
   "outputs": [
    {
     "name": "stdout",
     "output_type": "stream",
     "text": [
      "              precision    recall  f1-score   support\n",
      "\n",
      "           0       0.57      0.60      0.58        57\n",
      "           1       0.42      0.40      0.41        43\n",
      "\n",
      "    accuracy                           0.51       100\n",
      "   macro avg       0.50      0.50      0.50       100\n",
      "weighted avg       0.51      0.51      0.51       100\n",
      "\n"
     ]
    }
   ],
   "source": [
    "print(classification_report(y_test, knn_pred))"
   ]
  },
  {
   "cell_type": "code",
   "execution_count": 47,
   "id": "2d9ae7fb",
   "metadata": {},
   "outputs": [
    {
     "name": "stdout",
     "output_type": "stream",
     "text": [
      "Random Forest Classifier Accuracy: 0.61\n",
      "Confusion Matrix:\n",
      "[[43 14]\n",
      " [25 18]]\n",
      "Classification Report:\n",
      "              precision    recall  f1-score   support\n",
      "\n",
      "           0       0.63      0.75      0.69        57\n",
      "           1       0.56      0.42      0.48        43\n",
      "\n",
      "    accuracy                           0.61       100\n",
      "   macro avg       0.60      0.59      0.58       100\n",
      "weighted avg       0.60      0.61      0.60       100\n",
      "\n",
      "Logistic Regression Accuracy: 0.64\n",
      "Confusion Matrix:\n",
      "[[50  7]\n",
      " [29 14]]\n",
      "Classification Report:\n",
      "              precision    recall  f1-score   support\n",
      "\n",
      "           0       0.63      0.88      0.74        57\n",
      "           1       0.67      0.33      0.44        43\n",
      "\n",
      "    accuracy                           0.64       100\n",
      "   macro avg       0.65      0.60      0.59       100\n",
      "weighted avg       0.65      0.64      0.61       100\n",
      "\n",
      "K-Nearest Neighbors Accuracy: 0.53\n",
      "Confusion Matrix:\n",
      "[[44 13]\n",
      " [34  9]]\n",
      "Classification Report:\n",
      "              precision    recall  f1-score   support\n",
      "\n",
      "           0       0.56      0.77      0.65        57\n",
      "           1       0.41      0.21      0.28        43\n",
      "\n",
      "    accuracy                           0.53       100\n",
      "   macro avg       0.49      0.49      0.46       100\n",
      "weighted avg       0.50      0.53      0.49       100\n",
      "\n"
     ]
    }
   ],
   "source": [
    "import numpy as np \n",
    "import pandas as pd \n",
    "import matplotlib.pyplot as plt\n",
    "import seaborn as sns\n",
    "import warnings\n",
    "warnings.filterwarnings(\"ignore\")\n",
    "\n",
    "from sklearn.preprocessing import LabelEncoder\n",
    "from sklearn.model_selection import train_test_split, GridSearchCV\n",
    "from sklearn.ensemble import RandomForestClassifier\n",
    "from sklearn.linear_model import LogisticRegression\n",
    "from sklearn.neighbors import KNeighborsClassifier\n",
    "from sklearn.metrics import accuracy_score, confusion_matrix, classification_report\n",
    "from sklearn.pipeline import Pipeline\n",
    "from sklearn.compose import ColumnTransformer\n",
    "from sklearn.impute import SimpleImputer\n",
    "from sklearn.preprocessing import StandardScaler, OneHotEncoder\n",
    "\n",
    "# Load the dataset\n",
    "dress = pd.read_excel('Attribute_DataSet.xlsx')\n",
    "\n",
    "# Data cleaning\n",
    "dress['Price'] = dress['Price'].replace({'high': 'High', 'Average': 'Medium', 'low': 'Low'})\n",
    "dress['Size'] = dress['Size'].replace({'s': 'S', 'small': 'S'})\n",
    "dress['Season'] = dress['Season'].replace({'summer': 'Summer', 'Automn': 'Autumn', 'spring': 'Spring', 'winter': 'Winter'})\n",
    "dress['Style'] = dress['Style'].replace({'sexy': 'Sexy'})\n",
    "\n",
    "# Feature engineering\n",
    "label_encoder = LabelEncoder()\n",
    "dress['Price'] = label_encoder.fit_transform(dress['Price'])\n",
    "dress['Size'] = label_encoder.fit_transform(dress['Size'])\n",
    "dress['Season'] = label_encoder.fit_transform(dress['Season'])\n",
    "dress['waiseline'] = label_encoder.fit_transform(dress['waiseline'])\n",
    "dress['Style'] = label_encoder.fit_transform(dress['Style'])\n",
    "\n",
    "X = dress[['Style', 'Price', 'Rating', 'Size', 'Season', 'waiseline']]\n",
    "y = dress['Recommendation']\n",
    "\n",
    "# Train-test split\n",
    "X_train, X_test, y_train, y_test = train_test_split(X, y, test_size=0.2, random_state=154)\n",
    "\n",
    "# Pipeline for preprocessing\n",
    "numeric_features = ['Rating']\n",
    "numeric_transformer = Pipeline(steps=[\n",
    "    ('imputer', SimpleImputer(strategy='mean')),\n",
    "    ('scaler', StandardScaler())])\n",
    "\n",
    "categorical_features = ['Style', 'Price', 'Size', 'Season', 'waiseline']\n",
    "categorical_transformer = Pipeline(steps=[\n",
    "    ('imputer', SimpleImputer(strategy='most_frequent')),\n",
    "    ('onehot', OneHotEncoder(handle_unknown='ignore'))])\n",
    "\n",
    "preprocessor = ColumnTransformer(\n",
    "    transformers=[\n",
    "        ('num', numeric_transformer, numeric_features),\n",
    "        ('cat', categorical_transformer, categorical_features)])\n",
    "\n",
    "# Random Forest Classifier\n",
    "rfc_pipeline = Pipeline(steps=[('preprocessor', preprocessor),\n",
    "                               ('classifier', RandomForestClassifier(random_state=154))])\n",
    "\n",
    "rfc_param_grid = {\n",
    "    'classifier__n_estimators': [100, 200, 300],\n",
    "    'classifier__max_depth': [None, 10, 20],\n",
    "    'classifier__min_samples_split': [2, 5, 10],\n",
    "    'classifier__min_samples_leaf': [1, 2, 4]\n",
    "}\n",
    "\n",
    "rfc_grid_search = GridSearchCV(rfc_pipeline, param_grid=rfc_param_grid, cv=5)\n",
    "rfc_grid_search.fit(X_train, y_train)\n",
    "\n",
    "rfc_best_model = rfc_grid_search.best_estimator_\n",
    "rfc_pred = rfc_best_model.predict(X_test)\n",
    "rfc_acc = accuracy_score(y_test, rfc_pred)\n",
    "\n",
    "print(\"Random Forest Classifier Accuracy:\", rfc_acc)\n",
    "print(\"Confusion Matrix:\")\n",
    "print(confusion_matrix(y_test, rfc_pred))\n",
    "print(\"Classification Report:\")\n",
    "print(classification_report(y_test, rfc_pred))\n",
    "\n",
    "# Logistic Regression\n",
    "log_reg_pipeline = Pipeline(steps=[('preprocessor', preprocessor),\n",
    "                                   ('classifier', LogisticRegression(random_state=154))])\n",
    "\n",
    "log_reg_param_grid = {\n",
    "    'classifier__C': [0.001, 0.01, 0.1, 1, 10, 100],\n",
    "    'classifier__penalty': ['l1', 'l2']\n",
    "}\n",
    "\n",
    "log_reg_grid_search = GridSearchCV(log_reg_pipeline, param_grid=log_reg_param_grid, cv=5)\n",
    "log_reg_grid_search.fit(X_train, y_train)\n",
    "\n",
    "log_reg_best_model = log_reg_grid_search.best_estimator_\n",
    "log_reg_pred = log_reg_best_model.predict(X_test)\n",
    "log_reg_acc = accuracy_score(y_test, log_reg_pred)\n",
    "\n",
    "print(\"Logistic Regression Accuracy:\", log_reg_acc)\n",
    "print(\"Confusion Matrix:\")\n",
    "print(confusion_matrix(y_test, log_reg_pred))\n",
    "print(\"Classification Report:\")\n",
    "print(classification_report(y_test, log_reg_pred))\n",
    "\n",
    "# K-Nearest Neighbors\n",
    "knn_pipeline = Pipeline(steps=[('preprocessor', preprocessor),\n",
    "                               ('classifier', KNeighborsClassifier())])\n",
    "\n",
    "knn_param_grid = {\n",
    "    'classifier__n_neighbors': range(1, 21),\n",
    "    'classifier__weights': ['uniform', 'distance'],\n",
    "    'classifier__metric': ['euclidean', 'manhattan']\n",
    "}\n",
    "\n",
    "knn_grid_search = GridSearchCV(knn_pipeline, param_grid=knn_param_grid, cv=5)\n",
    "knn_grid_search.fit(X_train, y_train)\n",
    "\n",
    "knn_best_model = knn_grid_search.best_estimator_\n",
    "knn_pred = knn_best_model.predict(X_test)\n",
    "knn_acc = accuracy_score(y_test, knn_pred)\n",
    "\n",
    "print(\"K-Nearest Neighbors Accuracy:\", knn_acc)\n",
    "print(\"Confusion Matrix:\")\n",
    "print(confusion_matrix(y_test, knn_pred))\n",
    "print(\"Classification Report:\")\n",
    "print(classification_report(y_test, knn_pred))\n"
   ]
  },
  {
   "cell_type": "code",
   "execution_count": 53,
   "id": "9adeca8f",
   "metadata": {},
   "outputs": [
    {
     "name": "stdout",
     "output_type": "stream",
     "text": [
      "Support Vector Machine Accuracy: 0.63\n",
      "Confusion Matrix:\n",
      "[[46 11]\n",
      " [26 17]]\n",
      "Classification Report:\n",
      "              precision    recall  f1-score   support\n",
      "\n",
      "           0       0.64      0.81      0.71        57\n",
      "           1       0.61      0.40      0.48        43\n",
      "\n",
      "    accuracy                           0.63       100\n",
      "   macro avg       0.62      0.60      0.60       100\n",
      "weighted avg       0.63      0.63      0.61       100\n",
      "\n",
      "Gradient Boosting Classifier Accuracy: 0.64\n",
      "Confusion Matrix:\n",
      "[[54  3]\n",
      " [33 10]]\n",
      "Classification Report:\n",
      "              precision    recall  f1-score   support\n",
      "\n",
      "           0       0.62      0.95      0.75        57\n",
      "           1       0.77      0.23      0.36        43\n",
      "\n",
      "    accuracy                           0.64       100\n",
      "   macro avg       0.69      0.59      0.55       100\n",
      "weighted avg       0.68      0.64      0.58       100\n",
      "\n",
      "\n",
      "Comparison of Prediction Accuracy:\n",
      "                          Model  Accuracy\n",
      "0                 Random Forest      0.61\n",
      "1           Logistic Regression      0.64\n",
      "2           K-Nearest Neighbors      0.53\n",
      "3        Support Vector Machine      0.63\n",
      "4  Gradient Boosting Classifier      0.64\n"
     ]
    }
   ],
   "source": [
    "from sklearn.svm import SVC\n",
    "from sklearn.ensemble import GradientBoostingClassifier\n",
    "\n",
    "# Support Vector Machine\n",
    "svm_pipeline = Pipeline(steps=[('preprocessor', preprocessor),\n",
    "                               ('classifier', SVC(random_state=154))])\n",
    "\n",
    "svm_param_grid = {\n",
    "    'classifier__C': [0.001, 0.01, 0.1, 1, 10, 100],\n",
    "    'classifier__kernel': ['linear', 'poly', 'rbf', 'sigmoid']\n",
    "}\n",
    "\n",
    "svm_grid_search = GridSearchCV(svm_pipeline, param_grid=svm_param_grid, cv=5)\n",
    "svm_grid_search.fit(X_train, y_train)\n",
    "\n",
    "svm_best_model = svm_grid_search.best_estimator_\n",
    "svm_pred = svm_best_model.predict(X_test)\n",
    "svm_acc = accuracy_score(y_test, svm_pred)\n",
    "\n",
    "print(\"Support Vector Machine Accuracy:\", svm_acc)\n",
    "print(\"Confusion Matrix:\")\n",
    "print(confusion_matrix(y_test, svm_pred))\n",
    "print(\"Classification Report:\")\n",
    "print(classification_report(y_test, svm_pred))\n",
    "\n",
    "# Gradient Boosting Classifier\n",
    "gb_pipeline = Pipeline(steps=[('preprocessor', preprocessor),\n",
    "                              ('classifier', GradientBoostingClassifier(random_state=154))])\n",
    "\n",
    "gb_param_grid = {\n",
    "    'classifier__n_estimators': [50, 100, 200],\n",
    "    'classifier__learning_rate': [0.01, 0.1, 0.5],\n",
    "    'classifier__max_depth': [3, 5, 7]\n",
    "}\n",
    "\n",
    "gb_grid_search = GridSearchCV(gb_pipeline, param_grid=gb_param_grid, cv=5)\n",
    "gb_grid_search.fit(X_train, y_train)\n",
    "\n",
    "gb_best_model = gb_grid_search.best_estimator_\n",
    "gb_pred = gb_best_model.predict(X_test)\n",
    "gb_acc = accuracy_score(y_test, gb_pred)\n",
    "\n",
    "print(\"Gradient Boosting Classifier Accuracy:\", gb_acc)\n",
    "print(\"Confusion Matrix:\")\n",
    "print(confusion_matrix(y_test, gb_pred))\n",
    "print(\"Classification Report:\")\n",
    "print(classification_report(y_test, gb_pred))\n",
    "\n",
    "# Create a table for comparison\n",
    "comparison_table = pd.DataFrame({\n",
    "    'Model': ['Random Forest', 'Logistic Regression', 'K-Nearest Neighbors', 'Support Vector Machine', 'Gradient Boosting Classifier'],\n",
    "    'Accuracy': [rfc_acc, log_reg_acc, knn_acc, svm_acc, gb_acc]\n",
    "})\n",
    "\n",
    "print(\"\\nComparison of Prediction Accuracy:\")\n",
    "print(comparison_table)\n"
   ]
  },
  {
   "cell_type": "code",
   "execution_count": null,
   "id": "efea73b5",
   "metadata": {},
   "outputs": [],
   "source": []
  }
 ],
 "metadata": {
  "kernelspec": {
   "display_name": "Python 3 (ipykernel)",
   "language": "python",
   "name": "python3"
  },
  "language_info": {
   "codemirror_mode": {
    "name": "ipython",
    "version": 3
   },
   "file_extension": ".py",
   "mimetype": "text/x-python",
   "name": "python",
   "nbconvert_exporter": "python",
   "pygments_lexer": "ipython3",
   "version": "3.10.9"
  }
 },
 "nbformat": 4,
 "nbformat_minor": 5
}
